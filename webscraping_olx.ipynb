{
 "metadata": {
  "language_info": {
   "codemirror_mode": {
    "name": "ipython",
    "version": 3
   },
   "file_extension": ".py",
   "mimetype": "text/x-python",
   "name": "python",
   "nbconvert_exporter": "python",
   "pygments_lexer": "ipython3",
   "version": "3.8.5-final"
  },
  "orig_nbformat": 2,
  "kernelspec": {
   "name": "python3",
   "display_name": "Python 3.8.5 64-bit",
   "metadata": {
    "interpreter": {
     "hash": "31f2aee4e71d21fbe5cf8b01ff0e069b9275f58929596ceb00d14d90e3e16cd6"
    }
   }
  }
 },
 "nbformat": 4,
 "nbformat_minor": 2,
 "cells": [
  {
   "cell_type": "code",
   "execution_count": 21,
   "metadata": {},
   "outputs": [],
   "source": [
    "import pandas as pd\n",
    "from urllib.request import urlopen, Request\n",
    "from bs4 import BeautifulSoup\n",
    "from threading import Thread"
   ]
  },
  {
   "cell_type": "code",
   "execution_count": 2,
   "metadata": {},
   "outputs": [],
   "source": [
    "headers = {'User-Agent': 'Mozilla/5.0 (Windows NT 10.0; Win64; x64) AppleWebKit/537.36 (KHTML, like Gecko) Chrome/84.0.4147.135 Safari/537.36'}\n",
    "url = \"https://rn.olx.com.br/rio-grande-do-norte/natal/imoveis/venda/apartamentos\""
   ]
  },
  {
   "cell_type": "code",
   "execution_count": 3,
   "metadata": {
    "tags": []
   },
   "outputs": [
    {
     "output_type": "stream",
     "name": "stdout",
     "text": [
      "200\n"
     ]
    }
   ],
   "source": [
    "try: \n",
    "  req = Request(url, headers = headers) \n",
    "  response = urlopen(req) \n",
    "  print(response.getcode())\n",
    "\n",
    "except HTTPError as e: \n",
    "  print(e.status, e.reason)\n",
    "\n",
    "except URLError as e: \n",
    "  print(e.reason)"
   ]
  },
  {
   "cell_type": "code",
   "execution_count": 4,
   "metadata": {},
   "outputs": [],
   "source": [
    "html = response.read()"
   ]
  },
  {
   "cell_type": "code",
   "execution_count": 5,
   "metadata": {},
   "outputs": [],
   "source": [
    "soup = BeautifulSoup(html, 'html.parser')"
   ]
  },
  {
   "cell_type": "code",
   "execution_count": 7,
   "metadata": {},
   "outputs": [
    {
     "output_type": "execute_result",
     "data": {
      "text/plain": [
       "'Apartamentos à venda - Natal, Rio Grande do Norte | OLX'"
      ]
     },
     "metadata": {},
     "execution_count": 7
    }
   ],
   "source": [
    "soup.title.text"
   ]
  },
  {
   "cell_type": "code",
   "execution_count": 35,
   "metadata": {},
   "outputs": [
    {
     "output_type": "execute_result",
     "data": {
      "text/plain": [
       "'https://rn.olx.com.br/rio-grande-do-norte/imoveis/apartamento-em-ponta-negra-2-4-48m-para-jul-21-praia-de-pipa-doc-gratis-789451342'"
      ]
     },
     "metadata": {},
     "execution_count": 35
    }
   ],
   "source": [
    "soup.find_all('a',{'class':'fnmrjs-0 fyjObc'})[0]['href']"
   ]
  },
  {
   "cell_type": "code",
   "execution_count": 15,
   "metadata": {},
   "outputs": [
    {
     "output_type": "execute_result",
     "data": {
      "text/plain": [
       "'https://rn.olx.com.br/rio-grande-do-norte/natal/imoveis/venda/apartamentos?o=100'"
      ]
     },
     "metadata": {},
     "execution_count": 15
    }
   ],
   "source": [
    "last_page = soup.find('a',{'data-lurker-detail':'last_page'})['href']\n",
    "last_page"
   ]
  },
  {
   "cell_type": "code",
   "execution_count": 20,
   "metadata": {},
   "outputs": [
    {
     "output_type": "execute_result",
     "data": {
      "text/plain": [
       "'100'"
      ]
     },
     "metadata": {},
     "execution_count": 20
    }
   ],
   "source": [
    "num_last_page = last_page.split('o=')[-1]\n",
    "num_last_page"
   ]
  },
  {
   "cell_type": "code",
   "execution_count": 40,
   "metadata": {
    "tags": []
   },
   "outputs": [
    {
     "output_type": "stream",
     "name": "stdout",
     "text": [
      "https://rn.olx.com.br/rio-grande-do-norte/natal/imoveis/venda/apartamentos?o=1\n",
      "https://rn.olx.com.br/rio-grande-do-norte/natal/imoveis/venda/apartamentos?o=2\n",
      "https://rn.olx.com.br/rio-grande-do-norte/natal/imoveis/venda/apartamentos?o=3\n",
      "https://rn.olx.com.br/rio-grande-do-norte/natal/imoveis/venda/apartamentos?o=4\n",
      "https://rn.olx.com.br/rio-grande-do-norte/natal/imoveis/venda/apartamentos?o=5\n",
      "https://rn.olx.com.br/rio-grande-do-norte/natal/imoveis/venda/apartamentos?o=6\n",
      "https://rn.olx.com.br/rio-grande-do-norte/natal/imoveis/venda/apartamentos?o=7\n",
      "https://rn.olx.com.br/rio-grande-do-norte/natal/imoveis/venda/apartamentos?o=8\n",
      "https://rn.olx.com.br/rio-grande-do-norte/natal/imoveis/venda/apartamentos?o=9\n",
      "https://rn.olx.com.br/rio-grande-do-norte/natal/imoveis/venda/apartamentos?o=10\n",
      "https://rn.olx.com.br/rio-grande-do-norte/natal/imoveis/venda/apartamentos?o=11\n",
      "https://rn.olx.com.br/rio-grande-do-norte/natal/imoveis/venda/apartamentos?o=12\n",
      "https://rn.olx.com.br/rio-grande-do-norte/natal/imoveis/venda/apartamentos?o=13\n",
      "https://rn.olx.com.br/rio-grande-do-norte/natal/imoveis/venda/apartamentos?o=14\n",
      "https://rn.olx.com.br/rio-grande-do-norte/natal/imoveis/venda/apartamentos?o=15\n",
      "https://rn.olx.com.br/rio-grande-do-norte/natal/imoveis/venda/apartamentos?o=16\n",
      "https://rn.olx.com.br/rio-grande-do-norte/natal/imoveis/venda/apartamentos?o=17\n",
      "https://rn.olx.com.br/rio-grande-do-norte/natal/imoveis/venda/apartamentos?o=18\n",
      "https://rn.olx.com.br/rio-grande-do-norte/natal/imoveis/venda/apartamentos?o=19\n",
      "https://rn.olx.com.br/rio-grande-do-norte/natal/imoveis/venda/apartamentos?o=20\n",
      "https://rn.olx.com.br/rio-grande-do-norte/natal/imoveis/venda/apartamentos?o=21\n",
      "https://rn.olx.com.br/rio-grande-do-norte/natal/imoveis/venda/apartamentos?o=22\n",
      "https://rn.olx.com.br/rio-grande-do-norte/natal/imoveis/venda/apartamentos?o=23\n",
      "https://rn.olx.com.br/rio-grande-do-norte/natal/imoveis/venda/apartamentos?o=24\n",
      "https://rn.olx.com.br/rio-grande-do-norte/natal/imoveis/venda/apartamentos?o=25\n",
      "https://rn.olx.com.br/rio-grande-do-norte/natal/imoveis/venda/apartamentos?o=26\n",
      "https://rn.olx.com.br/rio-grande-do-norte/natal/imoveis/venda/apartamentos?o=27\n",
      "https://rn.olx.com.br/rio-grande-do-norte/natal/imoveis/venda/apartamentos?o=28\n",
      "https://rn.olx.com.br/rio-grande-do-norte/natal/imoveis/venda/apartamentos?o=29\n",
      "https://rn.olx.com.br/rio-grande-do-norte/natal/imoveis/venda/apartamentos?o=30\n",
      "https://rn.olx.com.br/rio-grande-do-norte/natal/imoveis/venda/apartamentos?o=31\n",
      "https://rn.olx.com.br/rio-grande-do-norte/natal/imoveis/venda/apartamentos?o=32\n",
      "https://rn.olx.com.br/rio-grande-do-norte/natal/imoveis/venda/apartamentos?o=33\n",
      "https://rn.olx.com.br/rio-grande-do-norte/natal/imoveis/venda/apartamentos?o=34\n",
      "https://rn.olx.com.br/rio-grande-do-norte/natal/imoveis/venda/apartamentos?o=35\n",
      "https://rn.olx.com.br/rio-grande-do-norte/natal/imoveis/venda/apartamentos?o=36\n",
      "https://rn.olx.com.br/rio-grande-do-norte/natal/imoveis/venda/apartamentos?o=37\n",
      "https://rn.olx.com.br/rio-grande-do-norte/natal/imoveis/venda/apartamentos?o=38\n",
      "https://rn.olx.com.br/rio-grande-do-norte/natal/imoveis/venda/apartamentos?o=39\n",
      "https://rn.olx.com.br/rio-grande-do-norte/natal/imoveis/venda/apartamentos?o=40\n",
      "https://rn.olx.com.br/rio-grande-do-norte/natal/imoveis/venda/apartamentos?o=41\n",
      "https://rn.olx.com.br/rio-grande-do-norte/natal/imoveis/venda/apartamentos?o=42\n",
      "https://rn.olx.com.br/rio-grande-do-norte/natal/imoveis/venda/apartamentos?o=43\n",
      "https://rn.olx.com.br/rio-grande-do-norte/natal/imoveis/venda/apartamentos?o=44\n",
      "https://rn.olx.com.br/rio-grande-do-norte/natal/imoveis/venda/apartamentos?o=45\n",
      "https://rn.olx.com.br/rio-grande-do-norte/natal/imoveis/venda/apartamentos?o=46\n",
      "https://rn.olx.com.br/rio-grande-do-norte/natal/imoveis/venda/apartamentos?o=47\n",
      "https://rn.olx.com.br/rio-grande-do-norte/natal/imoveis/venda/apartamentos?o=48\n",
      "https://rn.olx.com.br/rio-grande-do-norte/natal/imoveis/venda/apartamentos?o=49\n",
      "https://rn.olx.com.br/rio-grande-do-norte/natal/imoveis/venda/apartamentos?o=50\n",
      "https://rn.olx.com.br/rio-grande-do-norte/natal/imoveis/venda/apartamentos?o=51\n",
      "https://rn.olx.com.br/rio-grande-do-norte/natal/imoveis/venda/apartamentos?o=52\n",
      "https://rn.olx.com.br/rio-grande-do-norte/natal/imoveis/venda/apartamentos?o=53\n",
      "https://rn.olx.com.br/rio-grande-do-norte/natal/imoveis/venda/apartamentos?o=54\n",
      "https://rn.olx.com.br/rio-grande-do-norte/natal/imoveis/venda/apartamentos?o=55\n",
      "https://rn.olx.com.br/rio-grande-do-norte/natal/imoveis/venda/apartamentos?o=56\n",
      "https://rn.olx.com.br/rio-grande-do-norte/natal/imoveis/venda/apartamentos?o=57\n",
      "https://rn.olx.com.br/rio-grande-do-norte/natal/imoveis/venda/apartamentos?o=58\n",
      "https://rn.olx.com.br/rio-grande-do-norte/natal/imoveis/venda/apartamentos?o=59\n",
      "https://rn.olx.com.br/rio-grande-do-norte/natal/imoveis/venda/apartamentos?o=60\n",
      "https://rn.olx.com.br/rio-grande-do-norte/natal/imoveis/venda/apartamentos?o=61\n",
      "https://rn.olx.com.br/rio-grande-do-norte/natal/imoveis/venda/apartamentos?o=62\n",
      "https://rn.olx.com.br/rio-grande-do-norte/natal/imoveis/venda/apartamentos?o=63\n",
      "https://rn.olx.com.br/rio-grande-do-norte/natal/imoveis/venda/apartamentos?o=64\n",
      "https://rn.olx.com.br/rio-grande-do-norte/natal/imoveis/venda/apartamentos?o=65\n",
      "https://rn.olx.com.br/rio-grande-do-norte/natal/imoveis/venda/apartamentos?o=66\n",
      "https://rn.olx.com.br/rio-grande-do-norte/natal/imoveis/venda/apartamentos?o=67\n",
      "https://rn.olx.com.br/rio-grande-do-norte/natal/imoveis/venda/apartamentos?o=68\n",
      "https://rn.olx.com.br/rio-grande-do-norte/natal/imoveis/venda/apartamentos?o=69\n",
      "https://rn.olx.com.br/rio-grande-do-norte/natal/imoveis/venda/apartamentos?o=70\n",
      "https://rn.olx.com.br/rio-grande-do-norte/natal/imoveis/venda/apartamentos?o=71\n",
      "https://rn.olx.com.br/rio-grande-do-norte/natal/imoveis/venda/apartamentos?o=72\n",
      "https://rn.olx.com.br/rio-grande-do-norte/natal/imoveis/venda/apartamentos?o=73\n",
      "https://rn.olx.com.br/rio-grande-do-norte/natal/imoveis/venda/apartamentos?o=74\n",
      "https://rn.olx.com.br/rio-grande-do-norte/natal/imoveis/venda/apartamentos?o=75\n",
      "https://rn.olx.com.br/rio-grande-do-norte/natal/imoveis/venda/apartamentos?o=76\n",
      "https://rn.olx.com.br/rio-grande-do-norte/natal/imoveis/venda/apartamentos?o=77\n",
      "https://rn.olx.com.br/rio-grande-do-norte/natal/imoveis/venda/apartamentos?o=78\n",
      "https://rn.olx.com.br/rio-grande-do-norte/natal/imoveis/venda/apartamentos?o=79\n",
      "https://rn.olx.com.br/rio-grande-do-norte/natal/imoveis/venda/apartamentos?o=80\n",
      "https://rn.olx.com.br/rio-grande-do-norte/natal/imoveis/venda/apartamentos?o=81\n",
      "https://rn.olx.com.br/rio-grande-do-norte/natal/imoveis/venda/apartamentos?o=82\n",
      "https://rn.olx.com.br/rio-grande-do-norte/natal/imoveis/venda/apartamentos?o=83\n",
      "https://rn.olx.com.br/rio-grande-do-norte/natal/imoveis/venda/apartamentos?o=84\n",
      "https://rn.olx.com.br/rio-grande-do-norte/natal/imoveis/venda/apartamentos?o=85\n",
      "https://rn.olx.com.br/rio-grande-do-norte/natal/imoveis/venda/apartamentos?o=86\n",
      "https://rn.olx.com.br/rio-grande-do-norte/natal/imoveis/venda/apartamentos?o=87\n",
      "https://rn.olx.com.br/rio-grande-do-norte/natal/imoveis/venda/apartamentos?o=88\n",
      "https://rn.olx.com.br/rio-grande-do-norte/natal/imoveis/venda/apartamentos?o=89\n",
      "https://rn.olx.com.br/rio-grande-do-norte/natal/imoveis/venda/apartamentos?o=90\n",
      "https://rn.olx.com.br/rio-grande-do-norte/natal/imoveis/venda/apartamentos?o=91\n",
      "https://rn.olx.com.br/rio-grande-do-norte/natal/imoveis/venda/apartamentos?o=92\n",
      "https://rn.olx.com.br/rio-grande-do-norte/natal/imoveis/venda/apartamentos?o=93\n",
      "https://rn.olx.com.br/rio-grande-do-norte/natal/imoveis/venda/apartamentos?o=94\n",
      "https://rn.olx.com.br/rio-grande-do-norte/natal/imoveis/venda/apartamentos?o=95\n",
      "https://rn.olx.com.br/rio-grande-do-norte/natal/imoveis/venda/apartamentos?o=96\n",
      "https://rn.olx.com.br/rio-grande-do-norte/natal/imoveis/venda/apartamentos?o=97\n",
      "https://rn.olx.com.br/rio-grande-do-norte/natal/imoveis/venda/apartamentos?o=98\n",
      "https://rn.olx.com.br/rio-grande-do-norte/natal/imoveis/venda/apartamentos?o=99\n",
      "https://rn.olx.com.br/rio-grande-do-norte/natal/imoveis/venda/apartamentos?o=100\n"
     ]
    }
   ],
   "source": [
    "lista_links = []\n",
    "for i in range(1,int(num_last_page)+1):\n",
    "    url_page = 'https://rn.olx.com.br/rio-grande-do-norte/natal/imoveis/venda/apartamentos?o=' + str(i)\n",
    "    print(url_page)\n",
    "    req = Request(url, headers = headers) \n",
    "    response = urlopen(req)\n",
    "    soup = BeautifulSoup(html, 'html.parser')\n",
    "    for item in soup.find_all('a',{'class':'fnmrjs-0 fyjObc'}):\n",
    "        lista_links.append(item['href'])"
   ]
  },
  {
   "cell_type": "code",
   "execution_count": 42,
   "metadata": {},
   "outputs": [
    {
     "output_type": "execute_result",
     "data": {
      "text/plain": [
       "['https://rn.olx.com.br/rio-grande-do-norte/imoveis/apartamento-em-ponta-negra-2-4-48m-para-jul-21-praia-de-pipa-doc-gratis-789451342',\n",
       " 'https://rn.olx.com.br/rio-grande-do-norte/imoveis/apartamento-a-venda-em-tirol-rn-beethoven-250-m-4-quartos-4-suites-753043635',\n",
       " 'https://rn.olx.com.br/rio-grande-do-norte/imoveis/vendo-apartamento-otima-localizacao-em-ponta-negra-805665190',\n",
       " 'https://rn.olx.com.br/rio-grande-do-norte/imoveis/vendo-apartamento-no-residencial-victoria-em-lagoa-nova-com-2-suites-720338133',\n",
       " 'https://rn.olx.com.br/rio-grande-do-norte/imoveis/cidade-arvoredo-bairro-planejamento-2-dorms-54-a-70m-sao-goncalo-do-amarante-rn-833013005',\n",
       " 'https://rn.olx.com.br/rio-grande-do-norte/imoveis/apartamento-com-2-dormitorios-a-venda-55-m-por-r-397-000-00-lagoa-nova-natal-rn-836416236',\n",
       " 'https://rn.olx.com.br/rio-grande-do-norte/imoveis/apartamento-no-planalto-2-4-51m-58m-doc-gratis-801473708',\n",
       " 'https://rn.olx.com.br/rio-grande-do-norte/imoveis/sports-garden-170m-ligue-e-saiba-mais-informacoes-828102970',\n",
       " 'https://rn.olx.com.br/rio-grande-do-norte/imoveis/ar-aparatamento-em-capim-macio-851247778',\n",
       " 'https://rn.olx.com.br/rio-grande-do-norte/imoveis/apartamento-com-4-dormitorios-a-venda-198-m-por-r-530-000-00-capim-macio-natal-rn-836416183',\n",
       " 'https://rn.olx.com.br/rio-grande-do-norte/imoveis/vendo-apartamento-mobiliado-em-ponta-negra-otima-localizacao-duas-quadras-do-mar-851241183',\n",
       " 'https://rn.olx.com.br/rio-grande-do-norte/imoveis/apartamento-no-bairro-planalto-851241086',\n",
       " 'https://rn.olx.com.br/rio-grande-do-norte/imoveis/condominio-solar-das-estacoes-2-quartos-planalto-rn-807336865',\n",
       " 'https://rn.olx.com.br/rio-grande-do-norte/imoveis/oportunidade-em-petropolis-699154069',\n",
       " 'https://rn.olx.com.br/rio-grande-do-norte/imoveis/edificio-dorian-gray-679001423',\n",
       " 'https://rn.olx.com.br/rio-grande-do-norte/imoveis/lindo-apartamento-em-tirol-no-maria-auxiliadora-680796021',\n",
       " 'https://rn.olx.com.br/rio-grande-do-norte/imoveis/apartamento-em-petropolis-699231683',\n",
       " 'https://rn.olx.com.br/rio-grande-do-norte/imoveis/um-condominio-completo-no-coracao-de-lagoa-nova-851238053',\n",
       " 'https://rn.olx.com.br/rio-grande-do-norte/imoveis/cobertura-maravilhosa-no-in-mari-bali-724423692',\n",
       " 'https://rn.olx.com.br/rio-grande-do-norte/imoveis/residencial-tirol-way-713196041',\n",
       " 'https://rn.olx.com.br/rio-grande-do-norte/imoveis/residencial-miguel-carrilho-723535717',\n",
       " 'https://rn.olx.com.br/rio-grande-do-norte/imoveis/apartamento-proximo-ao-forum-de-justica-estadual-pf-trt-jfrn-809582631',\n",
       " 'https://rn.olx.com.br/rio-grande-do-norte/imoveis/apartamento-mobiliado-com-2-quartos-51m-a-venda-por-r-165-000-833554525',\n",
       " 'https://rn.olx.com.br/rio-grande-do-norte/imoveis/voce-busca-apartamento-confortavel-e-em-local-tranquilo-851231799',\n",
       " 'https://rn.olx.com.br/rio-grande-do-norte/imoveis/apartamento-olhar-das-dunas-lagoa-novaem-natal-rn-845484682',\n",
       " 'https://rn.olx.com.br/rio-grande-do-norte/imoveis/cobertura-em-ponta-negra-785791209',\n",
       " 'https://rn.olx.com.br/rio-grande-do-norte/imoveis/condominio-com-ampla-area-de-lazer-green-life-mor-gouveia-851227453',\n",
       " 'https://rn.olx.com.br/rio-grande-do-norte/imoveis/condominio-terra-de-santa-cruz-lagoa-nova-114-m2-841873025',\n",
       " 'https://rn.olx.com.br/rio-grande-do-norte/imoveis/ilhaas-gregas-apto-capim-macio-806494731',\n",
       " 'https://rn.olx.com.br/rio-grande-do-norte/imoveis/apartamento-com-4-dormitorios-a-venda-217-m-por-r-640-000-00-capim-macio-natal-rn-555764934',\n",
       " 'https://rn.olx.com.br/rio-grande-do-norte/imoveis/apartamento-no-planalto-documentacao-gratis-790816028',\n",
       " 'https://rn.olx.com.br/rio-grande-do-norte/imoveis/residencial-solar-nabor-maia-no-tirol-55m-667647416',\n",
       " 'https://rn.olx.com.br/rio-grande-do-norte/imoveis/belissimo-passaredo-851209263',\n",
       " 'https://rn.olx.com.br/rio-grande-do-norte/imoveis/apartamento-no-condominio-praia-de-ponta-negra-com-2-quartos-e-com-documentacao-gratis-839324271',\n",
       " 'https://rn.olx.com.br/rio-grande-do-norte/imoveis/vende-se-apartamentos-no-residencial-vitoria-com-2-quartos-no-inicio-da-cidade-satelite-749161331',\n",
       " 'https://rn.olx.com.br/rio-grande-do-norte/imoveis/apartamento-a-venda-com-3-dormitorios-em-lagoa-nova-natal-cod-av-8236-851069941',\n",
       " 'https://rn.olx.com.br/rio-grande-do-norte/imoveis/apartamento-com-2-quartos-em-petropolis-722247913',\n",
       " 'https://rn.olx.com.br/rio-grande-do-norte/imoveis/apartamento-a-venda-4-quartos-4-vagas-lagoa-nova-natal-rn-694646116',\n",
       " 'https://rn.olx.com.br/rio-grande-do-norte/imoveis/apartamento-a-venda-com-3-dormitorios-em-dix-sept-rosado-natal-cod-residencialalvorada-840145728',\n",
       " 'https://rn.olx.com.br/rio-grande-do-norte/imoveis/apartamento-em-candelaria-natal-rn-851186261',\n",
       " 'https://rn.olx.com.br/rio-grande-do-norte/imoveis/apartamento-3-suites-alugar-capim-macio-palazzo-ponta-negra-812525089',\n",
       " 'https://rn.olx.com.br/rio-grande-do-norte/imoveis/apartamento-a-venda-com-1-dormitorios-em-areia-preta-natal-cod-822452-843746521',\n",
       " 'https://rn.olx.com.br/rio-grande-do-norte/imoveis/apto-no-bairro-planalto-otima-oportunidade-de-ter-um-bom-apto-839545222',\n",
       " 'https://rn.olx.com.br/rio-grande-do-norte/imoveis/ultimas-unidades-apartamentos-2-dorms-otima-localizacao-544421850',\n",
       " 'https://rn.olx.com.br/rio-grande-do-norte/imoveis/apartamento-no-condominio-integracao-812131744',\n",
       " 'https://rn.olx.com.br/rio-grande-do-norte/imoveis/apartamento-com-120-m2-res-rita-lagoa-nova-812792597',\n",
       " 'https://rn.olx.com.br/rio-grande-do-norte/imoveis/apartamento-com-4-dormitorios-a-venda-248-m-por-r-900-000-00-tirol-natal-rn-685676534',\n",
       " 'https://rn.olx.com.br/rio-grande-do-norte/imoveis/apartamento-em-capim-macio-123-m-lado-da-sombra-linda-vista-do-parque-das-dunas-851172777',\n",
       " 'https://rn.olx.com.br/rio-grande-do-norte/imoveis/condominio-residencial-vivant-851163118',\n",
       " 'https://rn.olx.com.br/rio-grande-do-norte/imoveis/vendo-lindo-apartamento-101m-com-bela-vista-em-ponta-negra-novissimo-693344081',\n",
       " 'https://rn.olx.com.br/rio-grande-do-norte/imoveis/apartamento-em-ponta-negra-2-4-48m-para-jul-21-praia-de-pipa-doc-gratis-789451342',\n",
       " 'https://rn.olx.com.br/rio-grande-do-norte/imoveis/apartamento-a-venda-em-tirol-rn-beethoven-250-m-4-quartos-4-suites-753043635',\n",
       " 'https://rn.olx.com.br/rio-grande-do-norte/imoveis/vendo-apartamento-otima-localizacao-em-ponta-negra-805665190',\n",
       " 'https://rn.olx.com.br/rio-grande-do-norte/imoveis/vendo-apartamento-no-residencial-victoria-em-lagoa-nova-com-2-suites-720338133',\n",
       " 'https://rn.olx.com.br/rio-grande-do-norte/imoveis/cidade-arvoredo-bairro-planejamento-2-dorms-54-a-70m-sao-goncalo-do-amarante-rn-833013005',\n",
       " 'https://rn.olx.com.br/rio-grande-do-norte/imoveis/apartamento-com-2-dormitorios-a-venda-55-m-por-r-397-000-00-lagoa-nova-natal-rn-836416236',\n",
       " 'https://rn.olx.com.br/rio-grande-do-norte/imoveis/apartamento-no-planalto-2-4-51m-58m-doc-gratis-801473708',\n",
       " 'https://rn.olx.com.br/rio-grande-do-norte/imoveis/sports-garden-170m-ligue-e-saiba-mais-informacoes-828102970',\n",
       " 'https://rn.olx.com.br/rio-grande-do-norte/imoveis/ar-aparatamento-em-capim-macio-851247778',\n",
       " 'https://rn.olx.com.br/rio-grande-do-norte/imoveis/apartamento-com-4-dormitorios-a-venda-198-m-por-r-530-000-00-capim-macio-natal-rn-836416183',\n",
       " 'https://rn.olx.com.br/rio-grande-do-norte/imoveis/vendo-apartamento-mobiliado-em-ponta-negra-otima-localizacao-duas-quadras-do-mar-851241183',\n",
       " 'https://rn.olx.com.br/rio-grande-do-norte/imoveis/apartamento-no-bairro-planalto-851241086',\n",
       " 'https://rn.olx.com.br/rio-grande-do-norte/imoveis/condominio-solar-das-estacoes-2-quartos-planalto-rn-807336865',\n",
       " 'https://rn.olx.com.br/rio-grande-do-norte/imoveis/oportunidade-em-petropolis-699154069',\n",
       " 'https://rn.olx.com.br/rio-grande-do-norte/imoveis/edificio-dorian-gray-679001423',\n",
       " 'https://rn.olx.com.br/rio-grande-do-norte/imoveis/lindo-apartamento-em-tirol-no-maria-auxiliadora-680796021',\n",
       " 'https://rn.olx.com.br/rio-grande-do-norte/imoveis/apartamento-em-petropolis-699231683',\n",
       " 'https://rn.olx.com.br/rio-grande-do-norte/imoveis/um-condominio-completo-no-coracao-de-lagoa-nova-851238053',\n",
       " 'https://rn.olx.com.br/rio-grande-do-norte/imoveis/cobertura-maravilhosa-no-in-mari-bali-724423692',\n",
       " 'https://rn.olx.com.br/rio-grande-do-norte/imoveis/residencial-tirol-way-713196041',\n",
       " 'https://rn.olx.com.br/rio-grande-do-norte/imoveis/residencial-miguel-carrilho-723535717',\n",
       " 'https://rn.olx.com.br/rio-grande-do-norte/imoveis/apartamento-proximo-ao-forum-de-justica-estadual-pf-trt-jfrn-809582631',\n",
       " 'https://rn.olx.com.br/rio-grande-do-norte/imoveis/apartamento-mobiliado-com-2-quartos-51m-a-venda-por-r-165-000-833554525',\n",
       " 'https://rn.olx.com.br/rio-grande-do-norte/imoveis/voce-busca-apartamento-confortavel-e-em-local-tranquilo-851231799',\n",
       " 'https://rn.olx.com.br/rio-grande-do-norte/imoveis/apartamento-olhar-das-dunas-lagoa-novaem-natal-rn-845484682',\n",
       " 'https://rn.olx.com.br/rio-grande-do-norte/imoveis/cobertura-em-ponta-negra-785791209',\n",
       " 'https://rn.olx.com.br/rio-grande-do-norte/imoveis/condominio-com-ampla-area-de-lazer-green-life-mor-gouveia-851227453',\n",
       " 'https://rn.olx.com.br/rio-grande-do-norte/imoveis/condominio-terra-de-santa-cruz-lagoa-nova-114-m2-841873025',\n",
       " 'https://rn.olx.com.br/rio-grande-do-norte/imoveis/ilhaas-gregas-apto-capim-macio-806494731',\n",
       " 'https://rn.olx.com.br/rio-grande-do-norte/imoveis/apartamento-com-4-dormitorios-a-venda-217-m-por-r-640-000-00-capim-macio-natal-rn-555764934',\n",
       " 'https://rn.olx.com.br/rio-grande-do-norte/imoveis/apartamento-no-planalto-documentacao-gratis-790816028',\n",
       " 'https://rn.olx.com.br/rio-grande-do-norte/imoveis/residencial-solar-nabor-maia-no-tirol-55m-667647416',\n",
       " 'https://rn.olx.com.br/rio-grande-do-norte/imoveis/belissimo-passaredo-851209263',\n",
       " 'https://rn.olx.com.br/rio-grande-do-norte/imoveis/apartamento-no-condominio-praia-de-ponta-negra-com-2-quartos-e-com-documentacao-gratis-839324271',\n",
       " 'https://rn.olx.com.br/rio-grande-do-norte/imoveis/vende-se-apartamentos-no-residencial-vitoria-com-2-quartos-no-inicio-da-cidade-satelite-749161331',\n",
       " 'https://rn.olx.com.br/rio-grande-do-norte/imoveis/apartamento-a-venda-com-3-dormitorios-em-lagoa-nova-natal-cod-av-8236-851069941',\n",
       " 'https://rn.olx.com.br/rio-grande-do-norte/imoveis/apartamento-com-2-quartos-em-petropolis-722247913',\n",
       " 'https://rn.olx.com.br/rio-grande-do-norte/imoveis/apartamento-a-venda-4-quartos-4-vagas-lagoa-nova-natal-rn-694646116',\n",
       " 'https://rn.olx.com.br/rio-grande-do-norte/imoveis/apartamento-a-venda-com-3-dormitorios-em-dix-sept-rosado-natal-cod-residencialalvorada-840145728',\n",
       " 'https://rn.olx.com.br/rio-grande-do-norte/imoveis/apartamento-em-candelaria-natal-rn-851186261',\n",
       " 'https://rn.olx.com.br/rio-grande-do-norte/imoveis/apartamento-3-suites-alugar-capim-macio-palazzo-ponta-negra-812525089',\n",
       " 'https://rn.olx.com.br/rio-grande-do-norte/imoveis/apartamento-a-venda-com-1-dormitorios-em-areia-preta-natal-cod-822452-843746521',\n",
       " 'https://rn.olx.com.br/rio-grande-do-norte/imoveis/apto-no-bairro-planalto-otima-oportunidade-de-ter-um-bom-apto-839545222',\n",
       " 'https://rn.olx.com.br/rio-grande-do-norte/imoveis/ultimas-unidades-apartamentos-2-dorms-otima-localizacao-544421850',\n",
       " 'https://rn.olx.com.br/rio-grande-do-norte/imoveis/apartamento-no-condominio-integracao-812131744',\n",
       " 'https://rn.olx.com.br/rio-grande-do-norte/imoveis/apartamento-com-120-m2-res-rita-lagoa-nova-812792597',\n",
       " 'https://rn.olx.com.br/rio-grande-do-norte/imoveis/apartamento-com-4-dormitorios-a-venda-248-m-por-r-900-000-00-tirol-natal-rn-685676534',\n",
       " 'https://rn.olx.com.br/rio-grande-do-norte/imoveis/apartamento-em-capim-macio-123-m-lado-da-sombra-linda-vista-do-parque-das-dunas-851172777',\n",
       " 'https://rn.olx.com.br/rio-grande-do-norte/imoveis/condominio-residencial-vivant-851163118',\n",
       " 'https://rn.olx.com.br/rio-grande-do-norte/imoveis/vendo-lindo-apartamento-101m-com-bela-vista-em-ponta-negra-novissimo-693344081']"
      ]
     },
     "metadata": {},
     "execution_count": 42
    }
   ],
   "source": [
    "for link in lista_links[:10]:\n",
    "    req = Request(url, headers = headers) \n",
    "    response = urlopen(req)\n",
    "    soup = BeautifulSoup(html, 'html.parser')"
   ]
  },
  {
   "cell_type": "code",
   "execution_count": 43,
   "metadata": {},
   "outputs": [],
   "source": [
    "req = Request(lista_links[0], headers = headers) \n",
    "response = urlopen(req)\n",
    "soup = BeautifulSoup(html, 'html.parser')"
   ]
  }
 ]
}